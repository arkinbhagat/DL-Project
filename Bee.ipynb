{
  "nbformat": 4,
  "nbformat_minor": 0,
  "metadata": {
    "colab": {
      "name": "Bee.ipynb",
      "provenance": [],
      "collapsed_sections": [],
      "include_colab_link": true
    },
    "kernelspec": {
      "name": "python3",
      "display_name": "Python 3"
    },
    "language_info": {
      "name": "python"
    },
    "accelerator": "GPU"
  },
  "cells": [
    {
      "cell_type": "markdown",
      "metadata": {
        "id": "view-in-github",
        "colab_type": "text"
      },
      "source": [
        "<a href=\"https://colab.research.google.com/github/arkinbhagat/DL-Project/blob/main/Bee.ipynb\" target=\"_parent\"><img src=\"https://colab.research.google.com/assets/colab-badge.svg\" alt=\"Open In Colab\"/></a>"
      ]
    },
    {
      "cell_type": "markdown",
      "source": [
        "# Getting Started"
      ],
      "metadata": {
        "id": "TNv1RfQn4BcM"
      }
    },
    {
      "cell_type": "markdown",
      "source": [
        "First, some imports."
      ],
      "metadata": {
        "id": "0B1GRETQ375e"
      }
    },
    {
      "cell_type": "code",
      "execution_count": null,
      "metadata": {
        "id": "99JXUtdgY5G0"
      },
      "outputs": [],
      "source": [
        "import torch; torch.manual_seed(0)\n",
        "import torch.nn as nn\n",
        "import torch.nn.functional as F\n",
        "import torch.utils\n",
        "import torch.distributions\n",
        "import torchvision\n",
        "import torchvision.transforms as transforms\n",
        "import torch.optim as optim\n",
        "from torch.utils.data.dataset import Dataset\n",
        "\n",
        "import numpy as np\n",
        "import pandas as pd\n",
        "import collections\n",
        "import matplotlib.pyplot as plt\n",
        "%matplotlib inline\n",
        "import os,sys\n",
        "import datetime"
      ]
    },
    {
      "cell_type": "markdown",
      "source": [
        "Let us now download the dataset from Kaggle."
      ],
      "metadata": {
        "id": "MLJ2ilit4MU9"
      }
    },
    {
      "cell_type": "code",
      "source": [
        "#this downloads and extracts the dataset directly from kaggle\n",
        "#you can also directly upload the zip file and it should work\n",
        "\n",
        "!pip install kaggle \n",
        "!mkdir ~/.kaggle \n",
        "!cp kaggle.json ~/.kaggle/\n",
        "!chmod 600 ~/.kaggle/kaggle.json\n",
        "!kaggle competitions download deep-learning-for-msc-coursework-2022\n",
        "!unzip /content/deep-learning-for-msc-coursework-2022.zip -d /content/dataset "
      ],
      "metadata": {
        "id": "P9VUSCZDmmEB",
        "colab": {
          "base_uri": "https://localhost:8080/"
        },
        "outputId": "0be78fcb-de04-49d7-8f16-94d5cc3266a5"
      },
      "execution_count": null,
      "outputs": [
        {
          "output_type": "stream",
          "name": "stdout",
          "text": [
            "Requirement already satisfied: kaggle in /usr/local/lib/python3.7/dist-packages (1.5.12)\n",
            "Requirement already satisfied: requests in /usr/local/lib/python3.7/dist-packages (from kaggle) (2.23.0)\n",
            "Requirement already satisfied: python-dateutil in /usr/local/lib/python3.7/dist-packages (from kaggle) (2.8.2)\n",
            "Requirement already satisfied: urllib3 in /usr/local/lib/python3.7/dist-packages (from kaggle) (1.24.3)\n",
            "Requirement already satisfied: tqdm in /usr/local/lib/python3.7/dist-packages (from kaggle) (4.63.0)\n",
            "Requirement already satisfied: certifi in /usr/local/lib/python3.7/dist-packages (from kaggle) (2021.10.8)\n",
            "Requirement already satisfied: python-slugify in /usr/local/lib/python3.7/dist-packages (from kaggle) (6.1.1)\n",
            "Requirement already satisfied: six>=1.10 in /usr/local/lib/python3.7/dist-packages (from kaggle) (1.15.0)\n",
            "Requirement already satisfied: text-unidecode>=1.3 in /usr/local/lib/python3.7/dist-packages (from python-slugify->kaggle) (1.3)\n",
            "Requirement already satisfied: chardet<4,>=3.0.2 in /usr/local/lib/python3.7/dist-packages (from requests->kaggle) (3.0.4)\n",
            "Requirement already satisfied: idna<3,>=2.5 in /usr/local/lib/python3.7/dist-packages (from requests->kaggle) (2.10)\n",
            "mkdir: cannot create directory ‘/root/.kaggle’: File exists\n",
            "deep-learning-for-msc-coursework-2022.zip: Skipping, found more recently modified local copy (use --force to force download)\n",
            "Archive:  /content/deep-learning-for-msc-coursework-2022.zip\n",
            "replace /content/dataset/example.csv? [y]es, [n]o, [A]ll, [N]one, [r]ename: N\n"
          ]
        }
      ]
    },
    {
      "cell_type": "markdown",
      "source": [
        "These are some variables that I've declared here so I don't have to change them everytime I train the models."
      ],
      "metadata": {
        "id": "6ahvUfvt4Rbl"
      }
    },
    {
      "cell_type": "code",
      "source": [
        "#this cell defines several variables such as no. of channels, no. of epochs, batch size etc\n",
        "\n",
        "dataroot = '/content/dataset'\n",
        "workers = 2\n",
        "batch_size = 128\n",
        "image_size = 32\n",
        "nc = 3 \n",
        "epochs = 10\n",
        "latent_dims = 32\n",
        "device = 'cuda' if torch.cuda.is_available() else 'cpu' #checks if gpu runtime is available"
      ],
      "metadata": {
        "id": "Dir_4tSFl7Dp"
      },
      "execution_count": null,
      "outputs": []
    },
    {
      "cell_type": "markdown",
      "source": [
        "This function calculates weights for the unbalanced data set."
      ],
      "metadata": {
        "id": "6-3j1MrV4c4t"
      }
    },
    {
      "cell_type": "code",
      "source": [
        "#Function to calculate the weights for the unbalanced data set\n",
        "\n",
        "def weights_calc(images, k):                        \n",
        "    count = [0] * k                                                  \n",
        "    for element in images:                                                         \n",
        "        count[element[1]] += 1                                                     \n",
        "    weight_per_class = [0.] * k                                     \n",
        "    n = float(sum(count))                                                   \n",
        "    for i in range(k):                                                   \n",
        "        weight_per_class[i] = n/float(count[i])                                 \n",
        "    w = [0] * len(images)                                              \n",
        "    for idx, val in enumerate(images):                                          \n",
        "        w[idx] = weight_per_class[val[1]]                                  \n",
        "    return w                                                        "
      ],
      "metadata": {
        "id": "fbQa0yv5MLJJ"
      },
      "execution_count": null,
      "outputs": []
    },
    {
      "cell_type": "markdown",
      "source": [
        "Finally, I load the training and test data sets using ImageFolder. I have also defined the keys for different tissue classes for later use."
      ],
      "metadata": {
        "id": "_UveyGLtP1C2"
      }
    },
    {
      "cell_type": "code",
      "source": [
        "#i have used imagefolder to load both the training and test sets and have also converted them to torch tensors using transforms\n",
        "#shuffle is kept off, because it makes getting the predictions in the correct order very tricky\n",
        "#i have also used a weighted random sampler to counter the effects of the unbalanced training dataset\n",
        "\n",
        "dataset = torchvision.datasets.ImageFolder('/content/dataset/train/train', transform=transforms.Compose([\n",
        "                               transforms.ToTensor(),\n",
        "                           ]))\n",
        "\n",
        "weights = weights_calc(dataset.imgs, len(dataset.classes))                                                                \n",
        "weights = torch.DoubleTensor(weights)                                       \n",
        "sampler = torch.utils.data.sampler.WeightedRandomSampler(weights, len(weights))                 \n",
        "\n",
        "data_train = torch.utils.data.DataLoader(dataset, batch_size=batch_size,\n",
        "                                         shuffle=False, num_workers=workers, sampler = sampler)   \n",
        "\n",
        "\n",
        "\n",
        "\n",
        "\n",
        "dataset2 = torchvision.datasets.ImageFolder('/content/dataset/test', transform=transforms.Compose([\n",
        "                               transforms.ToTensor(),\n",
        "                           ]))\n",
        "data_test = torch.utils.data.DataLoader(dataset2, batch_size=batch_size,\n",
        "                                         shuffle=False, num_workers=workers)\n",
        "\n",
        "\n",
        "#here i have split the training data into training and validation sets for future use\n",
        "\n",
        "train_set, val_set = torch.utils.data.random_split(dataset, [1600, 100])\n",
        "\n",
        "data_train_split = torch.utils.data.DataLoader(train_set, batch_size=batch_size,\n",
        "                                         shuffle=False, num_workers=workers)\n",
        "\n",
        "data_val_split = torch.utils.data.DataLoader(val_set, batch_size=10,\n",
        "                                         shuffle=False, num_workers=workers)"
      ],
      "metadata": {
        "id": "mYU4cxEm2uPs"
      },
      "execution_count": null,
      "outputs": []
    },
    {
      "cell_type": "code",
      "source": [
        "#these are the keys for each class which will be used later on for making the predictions csv file\n",
        "\n",
        "print(dataset.class_to_idx)\n",
        "\n",
        "class_keys = {\n",
        "    3: \"Normal\",\n",
        "    0: \"Cancer\",\n",
        "    2: \"Immune\",\n",
        "    1: \"Connective\"}"
      ],
      "metadata": {
        "colab": {
          "base_uri": "https://localhost:8080/"
        },
        "id": "SGcavbMOvmIr",
        "outputId": "2b65be76-22e0-48cb-9630-557da3f76654"
      },
      "execution_count": null,
      "outputs": [
        {
          "output_type": "stream",
          "name": "stdout",
          "text": [
            "{'Cancer': 0, 'Connective': 1, 'Immune': 2, 'Normal': 3}\n"
          ]
        }
      ]
    },
    {
      "cell_type": "markdown",
      "source": [
        "# Autoencoder\n",
        "\n",
        "In this section, I have defined the Encoder, Decoder and Autoencoder."
      ],
      "metadata": {
        "id": "lBLgFsk14nBZ"
      }
    },
    {
      "cell_type": "code",
      "source": [
        "#this is a simple encoder with two linear layers \n",
        "#it essentially flattens the input and transforms it into a latent space of latent_dims\n",
        "\n",
        "class Encoder(nn.Module):\n",
        "    def __init__(self, latent_dims):\n",
        "        super(Encoder, self).__init__()\n",
        "        self.linear1 = nn.Linear(3072, 1024)\n",
        "        self.linear2 = nn.Linear(1024, latent_dims)\n",
        "    \n",
        "    def forward(self, x):\n",
        "        x = torch.flatten(x, start_dim=1)\n",
        "        x = F.relu(self.linear1(x))\n",
        "        return self.linear2(x)"
      ],
      "metadata": {
        "id": "u6snML4hZapz"
      },
      "execution_count": null,
      "outputs": []
    },
    {
      "cell_type": "code",
      "source": [
        "#this is a simple decoder with two linear layers \n",
        "#this converts the latent space back to the original dimensions\n",
        "\n",
        "class Decoder(nn.Module):\n",
        "    def __init__(self, latent_dims):\n",
        "        super(Decoder, self).__init__()\n",
        "        self.linear1 = nn.Linear(latent_dims, 1024)\n",
        "        self.linear2 = nn.Linear(1024, 3072)\n",
        "        \n",
        "    def forward(self, z):\n",
        "        z = F.relu(self.linear1(z))\n",
        "        z = torch.sigmoid(self.linear2(z))\n",
        "        return z.reshape((-1, 3, 32, 32))"
      ],
      "metadata": {
        "id": "bfBN0NZLnBb5"
      },
      "execution_count": null,
      "outputs": []
    },
    {
      "cell_type": "code",
      "source": [
        "#the autoencoder contains the encoder and decoder as layers\n",
        "\n",
        "class Autoencoder(nn.Module):\n",
        "    def __init__(self, latent_dims):\n",
        "        super(Autoencoder, self).__init__()\n",
        "        self.encoder = Encoder(latent_dims)\n",
        "        self.decoder = Decoder(latent_dims)        \n",
        "    \n",
        "    def forward(self, x):\n",
        "        z = self.encoder(x)\n",
        "        return self.decoder(z)"
      ],
      "metadata": {
        "id": "n9NdqA4YZobj"
      },
      "execution_count": null,
      "outputs": []
    },
    {
      "cell_type": "code",
      "source": [
        "#the training loop uses simple mean square loss and displays the loss at each epoch\n",
        "\n",
        "def train(autoencoder, data, epochs=10):\n",
        "    opt = torch.optim.Adam(autoencoder.parameters())\n",
        "    total_loss = []\n",
        "    for epoch in range(epochs):\n",
        "        for x, y in data:\n",
        "            x = x.to(device) \n",
        "            opt.zero_grad()\n",
        "            x_hat = autoencoder(x)\n",
        "            loss = ((x - x_hat)**2).sum()\n",
        "            loss.backward()\n",
        "            opt.step()\n",
        "        print (f'Train epoch:{epoch} with previous loss {loss}');\n",
        "        total_loss.append(float(loss))\n",
        "    plt.plot(np.arange(epochs),total_loss)\n",
        "    plt.xlabel(\"Epoch\")\n",
        "    plt.ylabel(\"Loss at Epoch\")\n",
        "    plt.title(\"Epoch vs Loss\")\n",
        "    return autoencoder"
      ],
      "metadata": {
        "id": "1rBqWeDPZuLD"
      },
      "execution_count": null,
      "outputs": []
    },
    {
      "cell_type": "code",
      "source": [
        "#initialise the autoencoder and move it to the gpu, if available\n",
        "\n",
        "autoencoder = Autoencoder(latent_dims).to(device) "
      ],
      "metadata": {
        "id": "3LjauHpDZ06z"
      },
      "execution_count": null,
      "outputs": []
    },
    {
      "cell_type": "code",
      "source": [
        "#train the autoencoder on the test set (unsupervised)\n",
        "#print the loss at each epoch and plot the curve\n",
        "\n",
        "autoencoder = train(autoencoder, data_test, epochs)"
      ],
      "metadata": {
        "id": "VDopMbyXeY2j",
        "colab": {
          "base_uri": "https://localhost:8080/",
          "height": 477
        },
        "outputId": "2eeef1b5-310a-4903-889f-bcb295ac3690"
      },
      "execution_count": null,
      "outputs": [
        {
          "output_type": "stream",
          "name": "stdout",
          "text": [
            "Train epoch:0 with previous loss 8463.39453125\n",
            "Train epoch:1 with previous loss 7596.12548828125\n",
            "Train epoch:2 with previous loss 7208.689453125\n",
            "Train epoch:3 with previous loss 7189.38916015625\n",
            "Train epoch:4 with previous loss 7012.48046875\n",
            "Train epoch:5 with previous loss 6944.50634765625\n",
            "Train epoch:6 with previous loss 6747.5341796875\n",
            "Train epoch:7 with previous loss 6867.42431640625\n",
            "Train epoch:8 with previous loss 7342.00146484375\n",
            "Train epoch:9 with previous loss 7671.8896484375\n"
          ]
        },
        {
          "output_type": "display_data",
          "data": {
            "text/plain": [
              "<Figure size 432x288 with 1 Axes>"
            ],
            "image/png": "[encoded data removed]"
          },
          "metadata": {
            "needs_background": "light"
          }
        }
      ]
    },
    {
      "cell_type": "code",
      "source": [
        "#plots the first two dimensions of the latent space produced by the encoder\n",
        "\n",
        "def plot_latent(autoencoder, data, num_batches=100):\n",
        "    for i, (x, y) in enumerate(data):\n",
        "        z = autoencoder.encoder(x.to(device))\n",
        "        z = z.to('cpu').detach().numpy()\n",
        "\n",
        "        plt.scatter(z[:, 0], z[:, 1], c=y, cmap='tab10')\n",
        "        if i > num_batches:\n",
        "            plt.colorbar()\n",
        "            break\n",
        "\n",
        "plot_latent(autoencoder, data_test)"
      ],
      "metadata": {
        "id": "xOE8V222_RlT",
        "colab": {
          "base_uri": "https://localhost:8080/",
          "height": 268
        },
        "outputId": "7186a3ff-67b8-44af-88c9-0a901684b927"
      },
      "execution_count": null,
      "outputs": [
        {
          "output_type": "display_data",
          "data": {
            "text/plain": [
              "<Figure size 432x288 with 1 Axes>"
            ],
            "image/png": "[encoded data removed]"
          },
          "metadata": {
            "needs_background": "light"
          }
        }
      ]
    },
    {
      "cell_type": "markdown",
      "source": [
        "# CNN\n",
        "\n",
        "Here I have defined the Convolutional Network and the training and testing loops."
      ],
      "metadata": {
        "id": "bZMkBZbH4qX0"
      }
    },
    {
      "cell_type": "code",
      "source": [
        "#i have used a cnn with 8 layers in total\n",
        "#the network uses cross entropy loss, so I have not defined a softmax layer after the final dense layers\n",
        "\n",
        "#the input size is (3,32,32) which becomes (1,3072) when flattened\n",
        "#the output is one of four nodes (0,1,2,3) which the network predicts as the class label for the image under consideration\n",
        "\n",
        "model = nn.Sequential(collections.OrderedDict([\n",
        "          ('conv2d1', nn.Conv2d(3, 32, kernel_size=3, padding=1)),\n",
        "          ('reLU1', nn.ReLU(True)),\n",
        "          ('batchnorm2d1', nn.BatchNorm2d(32)),\n",
        "          ('maxpool1', nn.MaxPool2d(2)),\n",
        "          ('dropout1', nn.Dropout(p=0.5)),\n",
        "\n",
        "          ('flatten', nn.Flatten()),\n",
        "          ('fc1', nn.Linear(8192, 4096)),\n",
        "          ('fc2', nn.Linear(4096, 4)),\n",
        "\n",
        "        ]))\n"
      ],
      "metadata": {
        "id": "Y-ZVNXpuerby"
      },
      "execution_count": null,
      "outputs": []
    },
    {
      "cell_type": "code",
      "source": [
        "#i have used the ADAM optimizer for this network\n",
        "#this cell also displays a sample minibatch of images to see if the dataloader is working properly\n",
        "\n",
        "#lr = 0.01\n",
        "#opt = optim.SGD(model.parameters(), lr=lr)\n",
        "opt = torch.optim.Adam(model.parameters())\n",
        "\n",
        "images, labels = next(iter(data_train))\n",
        "grid = torchvision.utils.make_grid(images)\n",
        "plt.imshow(np.transpose(grid.numpy(), (1,2,0)), interpolation='nearest')\n",
        "\n",
        "\n",
        "loss_fn = nn.CrossEntropyLoss()"
      ],
      "metadata": {
        "id": "M6J2_90h4o9m",
        "colab": {
          "base_uri": "https://localhost:8080/",
          "height": 269
        },
        "outputId": "04a96f5e-04bd-4677-908d-df6dbbd37d1d"
      },
      "execution_count": null,
      "outputs": [
        {
          "output_type": "display_data",
          "data": {
            "text/plain": [
              "<Figure size 432x288 with 1 Axes>"
            ],
            "image/png": "[encoded data removed]"
          },
          "metadata": {
            "needs_background": "light"
          }
        }
      ]
    },
    {
      "cell_type": "code",
      "source": [
        "#the training loop takes in the no. of epochs, the optimizer, the model, the device, the loss function and the training data as parameters\n",
        "#it also displays the training loss at each epoch\n",
        "\n",
        "#the test loop takes in the model, the device and the test data as parameters\n",
        "#it displays the average loss over n epochs as well as the accuracy \n",
        "\n",
        "epoch_print_gap = 1\n",
        "\n",
        "def training_loop(n_epochs, optimizer, model, device, loss_fn, train_loader):\n",
        "    model = model.to(device)\n",
        "    all_loss = []\n",
        "    for epoch in range(1, n_epochs + 1):\n",
        "        loss_train = 0.0\n",
        "        for imgs, labels in train_loader:\n",
        "            outputs = model(imgs.to(device))\n",
        "            loss = loss_fn(outputs, labels.to(device))\n",
        "            \n",
        "            optimizer.zero_grad()\n",
        "            loss.backward()\n",
        "            optimizer.step()\n",
        "            \n",
        "            loss_train += loss.item()\n",
        "            all_loss.append(loss_train)\n",
        "        if epoch == 1 or epoch % epoch_print_gap == 0:\n",
        "            print('{} Epoch {}, Training loss {}'.format(\n",
        "                datetime.datetime.now(), epoch, float(loss_train)))\n",
        "    plt.plot(all_loss, label='Training loss')\n",
        "    plt.title(\"Loss over epochs\")\n",
        "    plt.show()        \n",
        "  \n",
        "\n",
        "def test_loop(model, device, test_loader):\n",
        "    model.eval()\n",
        "    model = model.to(device)\n",
        "    test_loss = 0\n",
        "    correct = 0\n",
        "    all = []\n",
        "    with torch.no_grad():\n",
        "        for data, target in test_loader:\n",
        "            data, target = data.to(device), target.to(device)\n",
        "            output = model(data)\n",
        "            test_loss += F.nll_loss(output, target, reduction='sum').item() \n",
        "            pred = output.argmax(dim=1, keepdim=True)  \n",
        "            correct += pred.eq(target.view_as(pred)).sum().item()\n",
        "            all.append(pred.cpu())\n",
        "\n",
        "    test_loss /= len(test_loader.dataset)\n",
        "\n",
        "    print('\\nTest set: Average loss: {:.4f}, Accuracy: {}/{} ({:.0f}%)\\n'.format(\n",
        "        test_loss, correct, len(test_loader.dataset),\n",
        "        100. * correct / len(test_loader.dataset)))\n",
        "    \n",
        "    return(all)"
      ],
      "metadata": {
        "id": "9E98c0fKyRCB"
      },
      "execution_count": null,
      "outputs": []
    },
    {
      "cell_type": "markdown",
      "source": [
        "# Predictions and Conclusions"
      ],
      "metadata": {
        "id": "NLSr1_YH4vtN"
      }
    },
    {
      "cell_type": "code",
      "source": [
        "#here i have trained the model on the labelled training set\n",
        "\n",
        "training_loop(\n",
        "    n_epochs = epochs, \n",
        "    optimizer = opt,\n",
        "    model = model, \n",
        "    device = device,\n",
        "    loss_fn = loss_fn,\n",
        "    train_loader = data_train,\n",
        ")"
      ],
      "metadata": {
        "id": "neaahYEV5zXt",
        "colab": {
          "base_uri": "https://localhost:8080/",
          "height": 463
        },
        "outputId": "0483e02e-b768-415e-e751-f86e2b9e3371"
      },
      "execution_count": null,
      "outputs": [
        {
          "output_type": "stream",
          "name": "stdout",
          "text": [
            "2022-03-25 22:52:39.294348 Epoch 1, Training loss 86.33647936582565\n",
            "2022-03-25 22:52:41.285889 Epoch 2, Training loss 22.454685360193253\n",
            "2022-03-25 22:52:42.516280 Epoch 3, Training loss 12.222550347447395\n",
            "2022-03-25 22:52:43.459018 Epoch 4, Training loss 5.039475351572037\n",
            "2022-03-25 22:52:44.404463 Epoch 5, Training loss 3.808187298476696\n",
            "2022-03-25 22:52:45.370817 Epoch 6, Training loss 2.850446544587612\n",
            "2022-03-25 22:52:46.349237 Epoch 7, Training loss 2.784234531223774\n",
            "2022-03-25 22:52:47.429790 Epoch 8, Training loss 3.9509440883994102\n",
            "2022-03-25 22:52:48.899722 Epoch 9, Training loss 2.433110585436225\n",
            "2022-03-25 22:52:50.406693 Epoch 10, Training loss 1.4960579010657966\n"
          ]
        },
        {
          "output_type": "display_data",
          "data": {
            "text/plain": [
              "<Figure size 432x288 with 1 Axes>"
            ],
            "image/png": "[encoded data removed]"
          },
          "metadata": {
            "needs_background": "light"
          }
        }
      ]
    },
    {
      "cell_type": "code",
      "source": [
        "#this cell loads the output predictions into a a list\n",
        "\n",
        "predictions = test_loop(model = model, device = device, test_loader = data_test)\n",
        "predictions = torch.stack(predictions).flatten().tolist()\n",
        "print(predictions)"
      ],
      "metadata": {
        "id": "goZ9BaWF58l0",
        "colab": {
          "base_uri": "https://localhost:8080/"
        },
        "outputId": "c0b0e547-ad8d-4e6e-8810-ebb326154e98"
      },
      "execution_count": null,
      "outputs": [
        {
          "output_type": "stream",
          "name": "stdout",
          "text": [
            "\n",
            "Test set: Average loss: -1.3136, Accuracy: 886/3200 (28%)\n",
            "\n",
            "[1, 1, 3, 3, 3, 3, 3, 3, 0, 0, 3, 3, 3, 3, 3, 0, 0, 3, 3, 3, 3, 0, 1, 1, 3, 3, 0, 0, 0, 3, 3, 3, 3, 0, 3, 3, 3, 1, 0, 3, 0, 3, 3, 2, 1, 1, 0, 0, 3, 3, 0, 0, 3, 1, 0, 0, 0, 0, 3, 3, 1, 1, 3, 0, 0, 0, 0, 1, 0, 0, 0, 2, 0, 0, 1, 1, 2, 3, 0, 3, 3, 3, 0, 0, 3, 3, 3, 0, 3, 3, 1, 3, 0, 0, 0, 1, 3, 1, 1, 1, 2, 1, 2, 1, 1, 1, 0, 1, 0, 0, 2, 3, 1, 1, 1, 1, 3, 1, 0, 1, 1, 0, 1, 1, 3, 3, 2, 1, 1, 1, 1, 2, 0, 1, 1, 1, 1, 3, 3, 1, 2, 1, 3, 0, 1, 1, 1, 0, 1, 1, 1, 1, 2, 0, 1, 2, 1, 2, 0, 2, 1, 2, 1, 2, 2, 2, 2, 2, 3, 3, 1, 0, 2, 1, 1, 1, 1, 3, 2, 2, 1, 2, 1, 1, 3, 1, 1, 1, 1, 1, 3, 3, 1, 0, 2, 1, 1, 1, 1, 3, 1, 3, 1, 2, 2, 1, 3, 2, 1, 3, 1, 1, 1, 1, 2, 1, 1, 1, 3, 1, 3, 2, 3, 2, 0, 2, 2, 1, 1, 1, 3, 1, 0, 2, 1, 3, 2, 2, 3, 2, 1, 1, 2, 1, 1, 1, 1, 1, 1, 1, 1, 2, 1, 2, 1, 1, 2, 2, 1, 2, 2, 2, 2, 2, 2, 1, 1, 3, 2, 2, 2, 2, 2, 1, 1, 2, 2, 1, 1, 1, 1, 1, 2, 1, 2, 1, 1, 2, 0, 3, 1, 1, 1, 3, 1, 2, 1, 3, 2, 1, 1, 2, 3, 1, 2, 1, 1, 0, 1, 3, 2, 1, 1, 2, 1, 1, 1, 1, 2, 2, 3, 1, 1, 2, 1, 2, 1, 1, 1, 2, 0, 2, 1, 2, 2, 3, 2, 2, 2, 2, 1, 0, 2, 1, 2, 2, 3, 2, 3, 1, 2, 1, 2, 1, 1, 2, 1, 2, 2, 2, 3, 1, 1, 2, 1, 1, 1, 1, 1, 0, 1, 2, 1, 1, 3, 2, 1, 1, 1, 1, 1, 2, 1, 2, 3, 1, 2, 1, 1, 1, 1, 3, 1, 3, 1, 1, 1, 2, 1, 2, 1, 2, 3, 2, 1, 1, 0, 1, 2, 2, 1, 2, 2, 2, 1, 1, 2, 1, 3, 3, 2, 2, 1, 1, 1, 1, 1, 1, 1, 1, 1, 0, 1, 1, 2, 3, 1, 1, 2, 0, 1, 1, 2, 1, 1, 1, 2, 2, 1, 2, 2, 1, 1, 1, 2, 1, 1, 1, 2, 0, 0, 1, 1, 2, 1, 2, 1, 1, 1, 1, 1, 1, 1, 1, 1, 3, 1, 0, 1, 2, 1, 2, 1, 1, 2, 1, 1, 1, 1, 1, 1, 2, 1, 1, 3, 1, 1, 1, 1, 1, 3, 1, 3, 0, 1, 1, 1, 0, 1, 1, 0, 1, 1, 1, 1, 1, 1, 1, 1, 1, 1, 1, 1, 1, 1, 2, 1, 1, 1, 1, 1, 1, 1, 1, 1, 1, 1, 1, 1, 1, 2, 1, 3, 1, 3, 1, 1, 1, 1, 2, 1, 0, 1, 0, 1, 1, 1, 1, 1, 0, 1, 0, 1, 0, 3, 0, 0, 1, 1, 1, 1, 1, 1, 1, 2, 1, 1, 1, 1, 3, 1, 1, 1, 1, 1, 1, 1, 0, 1, 1, 1, 1, 3, 1, 0, 1, 1, 1, 1, 1, 1, 2, 1, 1, 1, 1, 1, 1, 1, 2, 3, 1, 1, 1, 1, 1, 1, 1, 1, 1, 1, 1, 1, 2, 1, 1, 1, 1, 1, 1, 3, 1, 1, 0, 1, 1, 3, 1, 1, 1, 1, 1, 1, 1, 1, 2, 1, 1, 1, 1, 1, 1, 1, 1, 1, 1, 1, 1, 1, 1, 1, 1, 1, 1, 1, 1, 1, 2, 1, 1, 1, 1, 1, 3, 1, 1, 1, 1, 1, 1, 1, 1, 1, 1, 3, 0, 1, 1, 3, 1, 1, 1, 1, 1, 1, 1, 1, 1, 2, 0, 1, 1, 0, 0, 1, 3, 1, 3, 1, 1, 1, 1, 1, 1, 1, 1, 1, 1, 1, 1, 1, 1, 1, 1, 1, 1, 1, 1, 1, 1, 1, 1, 1, 1, 1, 1, 1, 1, 1, 1, 1, 1, 1, 1, 1, 1, 1, 1, 0, 1, 1, 1, 1, 1, 1, 1, 1, 1, 1, 1, 0, 1, 1, 0, 1, 1, 1, 1, 1, 1, 0, 1, 1, 1, 1, 1, 1, 1, 1, 1, 1, 1, 1, 1, 3, 1, 1, 1, 1, 1, 1, 1, 1, 1, 1, 0, 1, 1, 1, 1, 3, 3, 3, 3, 3, 3, 3, 3, 3, 3, 3, 3, 3, 3, 3, 3, 3, 3, 3, 3, 3, 3, 3, 3, 3, 3, 3, 3, 3, 3, 3, 3, 3, 3, 3, 3, 3, 3, 3, 3, 3, 3, 3, 3, 3, 3, 3, 3, 3, 3, 3, 3, 3, 3, 3, 3, 3, 3, 3, 3, 3, 3, 3, 3, 3, 3, 3, 3, 3, 3, 3, 3, 3, 3, 3, 3, 3, 3, 3, 3, 3, 3, 3, 3, 3, 3, 3, 3, 3, 3, 3, 3, 3, 3, 3, 3, 3, 3, 3, 3, 3, 3, 3, 3, 3, 3, 3, 3, 3, 3, 3, 3, 3, 3, 3, 3, 3, 3, 3, 3, 3, 3, 3, 3, 3, 3, 3, 3, 3, 3, 3, 3, 3, 3, 3, 3, 3, 3, 3, 3, 3, 3, 3, 3, 3, 3, 3, 3, 3, 3, 3, 3, 3, 3, 3, 3, 3, 3, 3, 3, 3, 3, 3, 3, 3, 3, 3, 3, 3, 3, 3, 3, 3, 3, 3, 3, 3, 3, 3, 3, 3, 3, 3, 3, 3, 3, 3, 3, 3, 3, 3, 3, 3, 3, 3, 3, 3, 3, 3, 3, 3, 3, 3, 3, 3, 3, 3, 3, 3, 3, 3, 3, 3, 3, 3, 3, 3, 3, 3, 3, 3, 3, 3, 3, 3, 3, 3, 3, 3, 2, 3, 3, 3, 3, 3, 3, 3, 3, 3, 3, 3, 3, 3, 3, 3, 3, 3, 3, 3, 3, 3, 3, 3, 3, 3, 3, 3, 3, 3, 3, 3, 3, 3, 3, 2, 3, 3, 3, 1, 3, 3, 3, 3, 3, 3, 3, 3, 3, 3, 3, 3, 3, 3, 3, 3, 3, 3, 3, 3, 3, 3, 3, 3, 3, 3, 3, 3, 3, 3, 3, 3, 3, 3, 3, 3, 3, 3, 3, 3, 3, 3, 2, 3, 3, 3, 3, 3, 3, 3, 3, 2, 3, 3, 3, 3, 2, 3, 3, 2, 3, 3, 3, 3, 3, 3, 3, 3, 3, 3, 3, 3, 3, 3, 3, 3, 3, 3, 3, 3, 2, 3, 3, 3, 3, 3, 3, 3, 3, 3, 3, 3, 3, 3, 1, 3, 3, 3, 3, 3, 3, 3, 3, 3, 2, 3, 3, 3, 3, 3, 0, 3, 3, 3, 3, 3, 2, 3, 3, 3, 3, 3, 3, 3, 3, 3, 3, 3, 3, 3, 3, 3, 3, 3, 3, 3, 3, 3, 3, 3, 3, 3, 3, 3, 3, 3, 3, 3, 3, 3, 3, 3, 2, 3, 3, 3, 3, 3, 3, 3, 3, 2, 2, 2, 3, 3, 3, 3, 3, 3, 2, 2, 3, 3, 3, 3, 3, 3, 2, 3, 3, 2, 2, 3, 2, 3, 3, 2, 3, 3, 3, 3, 3, 3, 2, 3, 3, 3, 3, 3, 3, 3, 3, 3, 3, 3, 3, 2, 2, 3, 3, 3, 3, 3, 3, 3, 2, 3, 3, 3, 3, 3, 3, 3, 3, 3, 3, 3, 3, 3, 3, 3, 3, 3, 3, 3, 3, 3, 2, 3, 3, 3, 3, 3, 2, 2, 3, 2, 3, 3, 3, 3, 3, 3, 3, 2, 3, 3, 3, 3, 3, 3, 3, 3, 3, 3, 3, 3, 3, 3, 3, 3, 3, 3, 3, 3, 3, 3, 3, 3, 3, 3, 3, 3, 3, 3, 3, 3, 3, 2, 3, 3, 3, 2, 3, 3, 3, 3, 2, 3, 3, 3, 3, 3, 3, 3, 2, 3, 3, 3, 3, 3, 3, 3, 3, 3, 3, 3, 2, 3, 3, 3, 3, 2, 3, 3, 3, 3, 3, 3, 3, 3, 3, 3, 3, 1, 3, 3, 3, 2, 3, 3, 3, 3, 3, 3, 3, 3, 3, 3, 2, 2, 3, 3, 3, 3, 3, 3, 3, 3, 3, 3, 3, 3, 3, 3, 3, 2, 3, 3, 3, 3, 3, 3, 3, 3, 3, 3, 3, 3, 3, 3, 3, 3, 3, 3, 3, 3, 3, 3, 3, 3, 3, 3, 3, 3, 3, 3, 3, 3, 3, 3, 3, 3, 3, 3, 3, 3, 3, 3, 3, 3, 3, 3, 3, 3, 3, 3, 3, 3, 3, 3, 3, 3, 3, 3, 3, 3, 3, 3, 3, 3, 3, 3, 3, 3, 3, 3, 3, 3, 3, 3, 3, 3, 3, 3, 3, 3, 3, 3, 3, 3, 3, 3, 3, 3, 3, 3, 3, 3, 3, 3, 3, 3, 3, 3, 1, 3, 3, 3, 3, 3, 3, 3, 3, 1, 3, 3, 3, 3, 3, 3, 3, 3, 3, 3, 3, 3, 3, 3, 3, 3, 3, 3, 3, 3, 3, 3, 3, 3, 3, 3, 1, 3, 3, 3, 3, 3, 3, 1, 3, 3, 3, 3, 3, 3, 3, 3, 3, 3, 3, 3, 3, 3, 3, 3, 0, 3, 3, 3, 3, 3, 1, 3, 3, 3, 3, 3, 3, 3, 3, 3, 3, 3, 3, 3, 3, 3, 3, 3, 3, 3, 3, 3, 3, 3, 3, 3, 1, 3, 3, 3, 3, 3, 3, 3, 3, 3, 3, 3, 3, 3, 3, 3, 3, 3, 3, 3, 3, 3, 3, 3, 3, 3, 3, 3, 3, 3, 3, 3, 3, 3, 3, 3, 3, 3, 0, 3, 3, 3, 3, 3, 3, 3, 3, 3, 3, 3, 3, 3, 3, 3, 3, 3, 0, 3, 0, 3, 3, 3, 3, 3, 3, 1, 3, 3, 3, 3, 3, 3, 3, 3, 0, 3, 3, 3, 3, 3, 3, 3, 3, 3, 3, 3, 3, 3, 3, 1, 3, 1, 1, 3, 1, 3, 3, 1, 3, 1, 3, 1, 3, 1, 3, 3, 1, 3, 1, 3, 1, 3, 1, 1, 1, 1, 1, 3, 3, 3, 3, 3, 3, 3, 3, 3, 1, 3, 3, 1, 1, 1, 3, 1, 1, 1, 3, 1, 2, 1, 1, 1, 3, 1, 1, 1, 1, 1, 1, 1, 1, 3, 3, 1, 1, 3, 1, 3, 1, 3, 1, 1, 3, 1, 1, 3, 1, 1, 1, 1, 1, 1, 1, 3, 1, 1, 1, 3, 1, 1, 1, 0, 0, 0, 0, 0, 0, 0, 0, 0, 0, 0, 0, 0, 0, 0, 0, 0, 0, 0, 0, 0, 0, 0, 0, 0, 0, 3, 0, 0, 0, 0, 0, 3, 0, 0, 0, 0, 0, 0, 0, 0, 0, 0, 0, 0, 0, 0, 0, 0, 0, 0, 0, 0, 0, 0, 0, 0, 0, 0, 3, 0, 3, 0, 0, 3, 0, 0, 0, 0, 0, 0, 0, 0, 0, 0, 0, 0, 0, 0, 0, 0, 0, 0, 0, 0, 1, 0, 0, 0, 0, 0, 0, 0, 0, 0, 0, 0, 0, 0, 0, 0, 0, 0, 0, 0, 0, 0, 0, 0, 0, 3, 0, 0, 0, 0, 0, 0, 0, 0, 0, 0, 0, 0, 0, 0, 0, 0, 0, 0, 0, 1, 0, 0, 0, 3, 0, 0, 0, 0, 0, 0, 0, 0, 0, 0, 0, 0, 0, 0, 0, 0, 0, 0, 0, 0, 0, 0, 0, 0, 0, 0, 3, 0, 0, 0, 0, 0, 0, 0, 0, 0, 0, 0, 0, 0, 0, 0, 0, 3, 0, 0, 0, 0, 0, 0, 0, 0, 0, 0, 0, 3, 0, 0, 0, 0, 0, 0, 0, 0, 0, 0, 0, 0, 0, 0, 0, 0, 0, 0, 0, 0, 0, 0, 0, 1, 0, 0, 1, 0, 0, 0, 0, 0, 0, 0, 0, 0, 0, 0, 0, 0, 0, 0, 0, 0, 0, 0, 0, 0, 0, 0, 0, 0, 0, 0, 0, 0, 0, 0, 0, 0, 0, 0, 0, 0, 0, 0, 0, 0, 1, 0, 0, 0, 0, 0, 0, 0, 0, 0, 0, 0, 0, 0, 0, 0, 0, 0, 1, 0, 0, 0, 0, 0, 0, 0, 0, 0, 0, 0, 0, 0, 0, 0, 0, 0, 0, 0, 0, 0, 0, 0, 0, 0, 0, 0, 0, 0, 0, 0, 0, 0, 0, 0, 0, 0, 0, 0, 0, 0, 0, 0, 0, 0, 0, 0, 1, 0, 0, 0, 0, 0, 0, 0, 0, 0, 0, 0, 0, 0, 0, 0, 3, 0, 0, 0, 0, 0, 0, 0, 0, 0, 0, 0, 0, 0, 0, 0, 0, 0, 0, 0, 0, 0, 0, 0, 0, 0, 0, 0, 0, 0, 0, 0, 0, 0, 0, 3, 0, 0, 0, 0, 1, 0, 2, 0, 0, 0, 0, 0, 0, 0, 0, 0, 0, 0, 0, 0, 0, 0, 0, 0, 0, 0, 0, 0, 0, 0, 0, 0, 0, 0, 0, 0, 0, 0, 0, 0, 1, 0, 0, 0, 0, 0, 0, 0, 0, 0, 0, 0, 0, 0, 0, 0, 0, 0, 0, 0, 0, 0, 0, 0, 0, 0, 0, 0, 0, 0, 0, 0, 0, 0, 0, 0, 0, 0, 0, 3, 0, 0, 0, 0, 0, 0, 0, 0, 0, 0, 0, 0, 0, 0, 0, 0, 0, 0, 0, 0, 0, 0, 0, 0, 0, 0, 0, 0, 0, 0, 0, 3, 0, 2, 0, 0, 0, 3, 0, 0, 1, 0, 0, 0, 0, 0, 0, 0, 0, 0, 0, 1, 0, 0, 2, 0, 0, 0, 0, 0, 0, 0, 0, 0, 0, 0, 0, 1, 1, 1, 2, 1, 1, 1, 2, 1, 2, 1, 2, 3, 3, 2, 2, 3, 1, 1, 1, 0, 1, 1, 0, 1, 1, 1, 2, 1, 2, 2, 1, 2, 2, 1, 2, 1, 1, 1, 2, 1, 1, 1, 1, 1, 1, 1, 1, 1, 1, 1, 1, 1, 1, 1, 1, 2, 3, 2, 2, 2, 2, 2, 1, 2, 2, 2, 2, 2, 2, 2, 3, 2, 3, 3, 2, 2, 2, 2, 1, 2, 1, 3, 1, 1, 1, 1, 1, 1, 1, 3, 1, 1, 1, 1, 1, 1, 3, 3, 2, 2, 1, 2, 2, 2, 2, 2, 2, 2, 3, 3, 3, 2, 3, 1, 3, 2, 2, 2, 1, 2, 2, 3, 1, 3, 1, 3, 0, 1, 0, 2, 2, 2, 1, 2, 2, 3, 2, 2, 3, 3, 2, 3, 2, 2, 2, 2, 2, 2, 2, 2, 2, 1, 3, 0, 2, 2, 2, 2, 2, 2, 2, 2, 2, 2, 2, 2, 2, 2, 2, 2, 2, 2, 2, 2, 3, 2, 2, 2, 2, 2, 2, 2, 2, 2, 2, 2, 2, 2, 2, 2, 2, 2, 2, 2, 2, 2, 2, 2, 3, 2, 2, 2, 2, 2, 2, 2, 2, 2, 2, 2, 2, 2, 2, 3, 2, 2, 2, 1, 2, 2, 2, 2, 2, 2, 2, 2, 2, 2, 2, 2, 2, 2, 2, 2, 2, 2, 2, 2, 2, 2, 2, 2, 2, 2, 2, 2, 2, 2, 2, 2, 2, 2, 2, 2, 2, 2, 2, 2, 1, 2, 2, 2, 2, 2, 2, 2, 2, 2, 2, 2, 2, 2, 2, 1, 2, 2, 2, 2, 2, 2, 2, 2, 2, 2, 2, 2, 2, 1, 2, 2, 2, 2, 0, 2, 2, 2, 2, 2, 2, 2, 2, 2, 2, 2, 2, 2, 2, 2, 2, 2, 2, 2, 2, 2, 2, 2, 2, 2, 2, 2, 2, 2, 2, 2, 2, 2, 2, 2, 2, 2, 2, 3, 2, 2, 2, 2, 2, 2, 2, 2, 2, 2, 2, 2, 2, 2, 2, 2, 2, 2, 2, 2, 2, 2, 2, 2, 2, 2, 2, 2, 2, 2, 2, 2, 2, 2, 2, 2, 2, 2, 1, 2, 2, 2, 2, 2, 2, 2, 2, 2, 2, 2, 2, 2, 2, 2, 3, 2, 2, 2, 2, 0, 2, 2, 2, 2, 2, 2, 2, 2, 2, 1, 2, 2, 2, 2, 2, 2, 0, 0, 0, 3, 0, 0, 0, 0, 0, 0, 0, 0, 0, 0, 0, 0, 0, 0, 0, 3, 0, 3, 3, 3, 0, 0, 0, 0, 0, 0, 0, 0, 0, 0, 0, 0, 0, 0, 0, 0, 0, 3, 3, 0, 0, 0, 0, 0, 0, 0, 0, 3, 0, 0, 0, 0, 3, 0, 0, 0, 0, 0, 0, 0, 0, 0, 1, 3, 0, 1, 0, 0, 0, 3, 0, 2, 0, 0, 0, 1, 0, 0, 0, 0, 0, 0, 0, 3, 0, 0, 1, 0, 3, 0, 0, 0, 0, 0, 0, 0, 1, 0, 0, 0, 0, 0, 0, 0, 3, 0, 1, 0, 0, 0, 0, 3, 0, 0, 0, 0, 0, 0, 0, 0, 1, 0, 0, 3, 3, 0, 0, 1, 2, 0, 0, 0, 0, 0, 0, 3, 0, 3, 0, 0, 0, 0, 0, 1, 0, 0, 3, 0, 0, 1, 0, 0, 1, 0, 0, 0, 3, 1, 3, 0, 3, 0, 0, 0, 0, 0, 0, 3, 0, 0, 0, 0, 3, 3, 1, 0, 0, 0, 3, 0, 3, 1, 2, 0, 0, 0, 0, 0, 1, 0, 0, 1, 1, 3, 0, 0, 0, 0, 3, 1, 0, 0, 0, 0, 0, 3, 0, 0, 0, 0, 0, 0, 3, 0, 0, 0, 0, 0, 0, 0, 0, 0, 0, 0, 0, 0, 1, 3, 0, 0, 0, 0, 3, 0, 0, 0, 0, 0, 0, 0, 0, 3, 0, 0, 0, 3, 0, 0, 0, 1, 3, 3, 0, 2, 0, 2, 0, 0, 0, 0, 3, 0, 1, 0, 1, 0, 0, 0, 0, 0, 0, 0, 0, 0, 0, 0, 0, 0, 0, 3, 0, 0, 0, 0, 0, 0, 1, 0, 0, 1, 0, 0, 0, 0, 0, 0, 0, 1, 1, 0, 2, 0, 0, 1, 0, 3, 1, 0, 0, 0, 0, 0, 0, 3, 2, 0, 0, 3, 0, 0, 0, 0, 0, 1, 0, 3, 0, 0, 0, 1, 1, 0, 0, 2, 2, 1, 3, 0, 0, 0, 0, 1, 1, 3, 0, 0, 0, 0, 0, 0, 3, 0, 3, 1, 1, 0, 1, 0, 0, 0, 0, 0, 2, 0, 0, 1, 0, 3, 1, 0, 3, 0, 3, 2, 2, 0, 0, 0, 1, 0, 2, 0, 2, 0, 0, 0, 0, 3, 3, 0, 0, 3, 0, 0, 0, 0, 3, 0, 3, 1, 0, 0, 1, 1, 0, 3, 3, 3, 3, 3, 3, 3, 3, 3, 3, 3, 3, 3, 3, 3, 3, 3, 3, 3, 3, 3, 3, 3, 3, 3, 3, 3, 3, 3, 3, 3, 3, 3, 3, 3, 3, 3, 3, 3, 3, 3, 3, 3, 3, 3, 3, 3, 3, 3, 3]\n"
          ]
        }
      ]
    },
    {
      "cell_type": "code",
      "source": [
        "#this cell makes a csv out of the predictions and the keys for each label\n",
        "#this is the final predicted output of the network on the unlabelled test set\n",
        "\n",
        "data = pd.DataFrame()\n",
        "data[\"Id\"] = sorted(os.listdir(\"/content/dataset/test/test\"))\n",
        "data['Type'] = list(map(lambda k: list(class_keys.values())[list(class_keys.keys()).index(k)], predictions))\n",
        "data.to_csv('final_pred.csv', index=False)    \n",
        "\n",
        "data"
      ],
      "metadata": {
        "id": "XegEBYMye3oY",
        "colab": {
          "base_uri": "https://localhost:8080/",
          "height": 423
        },
        "outputId": "de5c93ae-cbcd-435a-ac55-1b46474af43c"
      },
      "execution_count": null,
      "outputs": [
        {
          "output_type": "execute_result",
          "data": {
            "text/plain": [
              "                Id        Type\n",
              "0     tile5001.png  Connective\n",
              "1     tile5002.png  Connective\n",
              "2     tile5003.png      Normal\n",
              "3     tile5004.png      Normal\n",
              "4     tile5005.png      Normal\n",
              "...            ...         ...\n",
              "3195  tile8196.png      Normal\n",
              "3196  tile8197.png      Normal\n",
              "3197  tile8198.png      Normal\n",
              "3198  tile8199.png      Normal\n",
              "3199  tile8200.png      Normal\n",
              "\n",
              "[3200 rows x 2 columns]"
            ],
            "text/html": [
              "\n",
              "  <div id=\"df-19a13a85-ada0-4370-bcdf-68845667eea4\">\n",
              "    <div class=\"colab-df-container\">\n",
              "      <div>\n",
              "<style scoped>\n",
              "    .dataframe tbody tr th:only-of-type {\n",
              "        vertical-align: middle;\n",
              "    }\n",
              "\n",
              "    .dataframe tbody tr th {\n",
              "        vertical-align: top;\n",
              "    }\n",
              "\n",
              "    .dataframe thead th {\n",
              "        text-align: right;\n",
              "    }\n",
              "</style>\n",
              "<table border=\"1\" class=\"dataframe\">\n",
              "  <thead>\n",
              "    <tr style=\"text-align: right;\">\n",
              "      <th></th>\n",
              "      <th>Id</th>\n",
              "      <th>Type</th>\n",
              "    </tr>\n",
              "  </thead>\n",
              "  <tbody>\n",
              "    <tr>\n",
              "      <th>0</th>\n",
              "      <td>tile5001.png</td>\n",
              "      <td>Connective</td>\n",
              "    </tr>\n",
              "    <tr>\n",
              "      <th>1</th>\n",
              "      <td>tile5002.png</td>\n",
              "      <td>Connective</td>\n",
              "    </tr>\n",
              "    <tr>\n",
              "      <th>2</th>\n",
              "      <td>tile5003.png</td>\n",
              "      <td>Normal</td>\n",
              "    </tr>\n",
              "    <tr>\n",
              "      <th>3</th>\n",
              "      <td>tile5004.png</td>\n",
              "      <td>Normal</td>\n",
              "    </tr>\n",
              "    <tr>\n",
              "      <th>4</th>\n",
              "      <td>tile5005.png</td>\n",
              "      <td>Normal</td>\n",
              "    </tr>\n",
              "    <tr>\n",
              "      <th>...</th>\n",
              "      <td>...</td>\n",
              "      <td>...</td>\n",
              "    </tr>\n",
              "    <tr>\n",
              "      <th>3195</th>\n",
              "      <td>tile8196.png</td>\n",
              "      <td>Normal</td>\n",
              "    </tr>\n",
              "    <tr>\n",
              "      <th>3196</th>\n",
              "      <td>tile8197.png</td>\n",
              "      <td>Normal</td>\n",
              "    </tr>\n",
              "    <tr>\n",
              "      <th>3197</th>\n",
              "      <td>tile8198.png</td>\n",
              "      <td>Normal</td>\n",
              "    </tr>\n",
              "    <tr>\n",
              "      <th>3198</th>\n",
              "      <td>tile8199.png</td>\n",
              "      <td>Normal</td>\n",
              "    </tr>\n",
              "    <tr>\n",
              "      <th>3199</th>\n",
              "      <td>tile8200.png</td>\n",
              "      <td>Normal</td>\n",
              "    </tr>\n",
              "  </tbody>\n",
              "</table>\n",
              "<p>3200 rows × 2 columns</p>\n",
              "</div>\n",
              "      <button class=\"colab-df-convert\" onclick=\"convertToInteractive('df-19a13a85-ada0-4370-bcdf-68845667eea4')\"\n",
              "              title=\"Convert this dataframe to an interactive table.\"\n",
              "              style=\"display:none;\">\n",
              "        \n",
              "  <svg xmlns=\"http://www.w3.org/2000/svg\" height=\"24px\"viewBox=\"0 0 24 24\"\n",
              "       width=\"24px\">\n",
              "    <path d=\"M0 0h24v24H0V0z\" fill=\"none\"/>\n",
              "    <path d=\"M18.56 5.44l.94 2.06.94-2.06 2.06-.94-2.06-.94-.94-2.06-.94 2.06-2.06.94zm-11 1L8.5 8.5l.94-2.06 2.06-.94-2.06-.94L8.5 2.5l-.94 2.06-2.06.94zm10 10l.94 2.06.94-2.06 2.06-.94-2.06-.94-.94-2.06-.94 2.06-2.06.94z\"/><path d=\"M17.41 7.96l-1.37-1.37c-.4-.4-.92-.59-1.43-.59-.52 0-1.04.2-1.43.59L10.3 9.45l-7.72 7.72c-.78.78-.78 2.05 0 2.83L4 21.41c.39.39.9.59 1.41.59.51 0 1.02-.2 1.41-.59l7.78-7.78 2.81-2.81c.8-.78.8-2.07 0-2.86zM5.41 20L4 18.59l7.72-7.72 1.47 1.35L5.41 20z\"/>\n",
              "  </svg>\n",
              "      </button>\n",
              "      \n",
              "  <style>\n",
              "    .colab-df-container {\n",
              "      display:flex;\n",
              "      flex-wrap:wrap;\n",
              "      gap: 12px;\n",
              "    }\n",
              "\n",
              "    .colab-df-convert {\n",
              "      background-color: #E8F0FE;\n",
              "      border: none;\n",
              "      border-radius: 50%;\n",
              "      cursor: pointer;\n",
              "      display: none;\n",
              "      fill: #1967D2;\n",
              "      height: 32px;\n",
              "      padding: 0 0 0 0;\n",
              "      width: 32px;\n",
              "    }\n",
              "\n",
              "    .colab-df-convert:hover {\n",
              "      background-color: #E2EBFA;\n",
              "      box-shadow: 0px 1px 2px rgba(60, 64, 67, 0.3), 0px 1px 3px 1px rgba(60, 64, 67, 0.15);\n",
              "      fill: #174EA6;\n",
              "    }\n",
              "\n",
              "    [theme=dark] .colab-df-convert {\n",
              "      background-color: #3B4455;\n",
              "      fill: #D2E3FC;\n",
              "    }\n",
              "\n",
              "    [theme=dark] .colab-df-convert:hover {\n",
              "      background-color: #434B5C;\n",
              "      box-shadow: 0px 1px 3px 1px rgba(0, 0, 0, 0.15);\n",
              "      filter: drop-shadow(0px 1px 2px rgba(0, 0, 0, 0.3));\n",
              "      fill: #FFFFFF;\n",
              "    }\n",
              "  </style>\n",
              "\n",
              "      <script>\n",
              "        const buttonEl =\n",
              "          document.querySelector('#df-19a13a85-ada0-4370-bcdf-68845667eea4 button.colab-df-convert');\n",
              "        buttonEl.style.display =\n",
              "          google.colab.kernel.accessAllowed ? 'block' : 'none';\n",
              "\n",
              "        async function convertToInteractive(key) {\n",
              "          const element = document.querySelector('#df-19a13a85-ada0-4370-bcdf-68845667eea4');\n",
              "          const dataTable =\n",
              "            await google.colab.kernel.invokeFunction('convertToInteractive',\n",
              "                                                     [key], {});\n",
              "          if (!dataTable) return;\n",
              "\n",
              "          const docLinkHtml = 'Like what you see? Visit the ' +\n",
              "            '<a target=\"_blank\" href=https://colab.research.google.com/notebooks/data_table.ipynb>data table notebook</a>'\n",
              "            + ' to learn more about interactive tables.';\n",
              "          element.innerHTML = '';\n",
              "          dataTable['output_type'] = 'display_data';\n",
              "          await google.colab.output.renderOutput(dataTable, element);\n",
              "          const docLink = document.createElement('div');\n",
              "          docLink.innerHTML = docLinkHtml;\n",
              "          element.appendChild(docLink);\n",
              "        }\n",
              "      </script>\n",
              "    </div>\n",
              "  </div>\n",
              "  "
            ]
          },
          "metadata": {},
          "execution_count": 25
        }
      ]
    },
    {
      "cell_type": "code",
      "source": [],
      "metadata": {
        "id": "7C_5zxI1RsD7"
      },
      "execution_count": null,
      "outputs": []
    }
  ]
}